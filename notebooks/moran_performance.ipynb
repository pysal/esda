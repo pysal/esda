{
 "cells": [
  {
   "cell_type": "markdown",
   "metadata": {},
   "source": [
    "# Performance comparison"
   ]
  },
  {
   "cell_type": "code",
   "execution_count": 1,
   "metadata": {},
   "outputs": [
    {
     "name": "stdout",
     "output_type": "stream",
     "text": [
      "Geosnap not installed, will have to source some datasets elsewhere\n"
     ]
    }
   ],
   "source": [
    "%matplotlib inline\n",
    "\n",
    "try:\n",
    "    from geosnap import datasets\n",
    "except:\n",
    "    print(\"Geosnap not installed, will have to source some datasets elsewhere\")\n",
    "import geopandas\n",
    "import pandas\n",
    "import esda\n",
    "import pygeoda\n",
    "import os\n",
    "import libpysal as ps\n",
    "from time import time\n",
    "\n",
    "PERMS = 9999\n",
    "\n",
    "from libpysal.examples import get_path, load_example"
   ]
  },
  {
   "cell_type": "markdown",
   "metadata": {},
   "source": [
    "## Data"
   ]
  },
  {
   "cell_type": "code",
   "execution_count": 2,
   "metadata": {},
   "outputs": [
    {
     "name": "stderr",
     "output_type": "stream",
     "text": [
      "Copying: 0.00B [00:00, ?B/s]\n",
      "Copying: 0.00B [00:00, ?B/s]"
     ]
    },
    {
     "name": "stdout",
     "output_type": "stream",
     "text": [
      "CPU times: user 904 ms, sys: 165 ms, total: 1.07 s\n",
      "Wall time: 10 s\n"
     ]
    },
    {
     "name": "stderr",
     "output_type": "stream",
     "text": [
      "\n"
     ]
    }
   ],
   "source": [
    "%%time\n",
    "from geosnap.io import store_census\n",
    "store_census()"
   ]
  },
  {
   "cell_type": "markdown",
   "metadata": {},
   "source": [
    "- Counties"
   ]
  },
  {
   "cell_type": "code",
   "execution_count": 2,
   "metadata": {},
   "outputs": [],
   "source": [
    "_ = load_example(\"NCOVR\")\n",
    "\n",
    "counties = geopandas.read_file(get_path(\"NAT.shp\"))\n",
    "w_counties = ps.weights.Queen.from_dataframe(counties)"
   ]
  },
  {
   "cell_type": "markdown",
   "metadata": {},
   "source": [
    "- Tracts"
   ]
  },
  {
   "cell_type": "code",
   "execution_count": 3,
   "metadata": {},
   "outputs": [
    {
     "name": "stdout",
     "output_type": "stream",
     "text": [
      "CPU times: user 3.58 s, sys: 201 ms, total: 3.79 s\n",
      "Wall time: 3.75 s\n"
     ]
    }
   ],
   "source": [
    "%%time\n",
    "try:\n",
    "    tracts = geopandas.read_file(\"tracts.gpkg\")\n",
    "except:\n",
    "    tracts = datasets.tracts_2010()\\\n",
    "                     [[\"geoid\", \"median_household_income\", \"geometry\"]]\\\n",
    "                     .dropna()"
   ]
  },
  {
   "cell_type": "code",
   "execution_count": 4,
   "metadata": {},
   "outputs": [
    {
     "name": "stdout",
     "output_type": "stream",
     "text": [
      "CPU times: user 39.3 s, sys: 723 ms, total: 40 s\n",
      "Wall time: 40 s\n"
     ]
    },
    {
     "name": "stderr",
     "output_type": "stream",
     "text": [
      "/opt/conda/lib/python3.7/site-packages/libpysal/weights/weights.py:167: UserWarning: The weights matrix is not fully connected: \n",
      " There are 37 disconnected components.\n",
      " There are 16 islands with ids: 20, 50, 52, 24654, 35292, 36380, 41050, 41070, 43397, 45974, 48067, 48586, 48788, 63773, 68790, 70510.\n",
      "  warnings.warn(message)\n"
     ]
    }
   ],
   "source": [
    "%%time\n",
    "w_tracts = ps.weights.Queen.from_dataframe(tracts)"
   ]
  },
  {
   "cell_type": "markdown",
   "metadata": {},
   "source": [
    "Remove islands:"
   ]
  },
  {
   "cell_type": "code",
   "execution_count": 40,
   "metadata": {},
   "outputs": [],
   "source": [
    "tracts_noi = tracts[~tracts.index.isin(w_tracts.islands)]"
   ]
  },
  {
   "cell_type": "code",
   "execution_count": 43,
   "metadata": {},
   "outputs": [
    {
     "name": "stderr",
     "output_type": "stream",
     "text": [
      "/opt/conda/lib/python3.7/site-packages/libpysal/weights/weights.py:167: UserWarning: The weights matrix is not fully connected: \n",
      " There are 21 disconnected components.\n",
      "  warnings.warn(message)\n"
     ]
    }
   ],
   "source": [
    "w_tracts_noi = ps.weights.w_subset(w_tracts, tracts_noi.index.tolist())"
   ]
  },
  {
   "cell_type": "code",
   "execution_count": 44,
   "metadata": {},
   "outputs": [
    {
     "data": {
      "text/plain": [
       "[]"
      ]
     },
     "execution_count": 44,
     "metadata": {},
     "output_type": "execute_result"
    }
   ],
   "source": [
    "w_tracts_noi.islands"
   ]
  },
  {
   "cell_type": "markdown",
   "metadata": {},
   "source": [
    "## Setup"
   ]
  },
  {
   "cell_type": "code",
   "execution_count": 58,
   "metadata": {},
   "outputs": [],
   "source": [
    "def workbench(\n",
    "    db, \n",
    "    y_name, \n",
    "    w, \n",
    "    perms=PERMS, \n",
    "    runs=5, \n",
    "    save_last=False,\n",
    "    no_numba=True,\n",
    "    numba_single=True,\n",
    "    numba_multi=True,\n",
    "    geoda=True\n",
    "):\n",
    "    print(f\"Workbench working on a {os.cpu_count()}-core machine\")\n",
    "    times = {}\n",
    "    if no_numba:\n",
    "        times[\"No Numba\"] = []\n",
    "    if numba_single:\n",
    "        times[\"Numba - Single Thread\"] = []\n",
    "    if numba_multi:\n",
    "        times[\"Numba - Multi Thread\"] = []\n",
    "    if geoda:\n",
    "        times[\"PyGeoda\"] = []\n",
    "    # Ensure function is compiled\n",
    "    if numba_single:\n",
    "        one = esda.Moran_Local(db[y_name], \n",
    "                               w, \n",
    "                               permutations=1,\n",
    "                               numba=True,\n",
    "                               n_jobs=1\n",
    "                              )\n",
    "    if numba_multi:\n",
    "        one = esda.Moran_Local(db[y_name], \n",
    "                               w, \n",
    "                               permutations=1,\n",
    "                               numba=True,\n",
    "                               n_jobs=-1\n",
    "                              )\n",
    "    # PyGeoda setup\n",
    "    if geoda:\n",
    "        db.to_file(\"tmp\")\n",
    "        db_geoda = pygeoda.open(\"tmp/tmp.shp\")\n",
    "        y_geoda = db_geoda.GetIntegerCol(y_name)\n",
    "        w_geoda = pygeoda.weights.queen(db_geoda)\n",
    "    for i in range(runs):\n",
    "        # Pre-numba\n",
    "        if no_numba:\n",
    "            t0 = time()\n",
    "            old = esda.Moran_Local(db[y_name], \n",
    "                                   w, \n",
    "                                   permutations=perms\n",
    "                                  )\n",
    "            t1 = time()\n",
    "            times[\"No Numba\"].append(t1-t0)\n",
    "        # Numba single thread\n",
    "        if numba_single:\n",
    "            t0 = time()\n",
    "            one = esda.Moran_Local(db[y_name], \n",
    "                                   w, \n",
    "                                   permutations=perms,\n",
    "                                   numba=True,\n",
    "                                   n_jobs=1\n",
    "                                  )\n",
    "            t1 = time()\n",
    "            times[\"Numba - Single Thread\"].append(t1-t0)\n",
    "        # Numba multi thread\n",
    "        if numba_multi:\n",
    "            t0 = time()\n",
    "            mul = esda.Moran_Local(db[y_name], \n",
    "                                   w, \n",
    "                                   permutations=perms,\n",
    "                                   numba=True,\n",
    "                                   n_jobs=-1\n",
    "                                  )\n",
    "            t1 = time()\n",
    "            times[\"Numba - Multi Thread\"].append(t1-t0)\n",
    "        # PyGeoDa\n",
    "        if geoda:\n",
    "            lisa_geoda = pygeoda.local_moran(w_geoda, y_geoda)\n",
    "            lisa_geoda.SetPermutations(perms)\n",
    "            t0 = time()\n",
    "            lisa_geoda.Run()\n",
    "            t1 = time()\n",
    "            times[\"PyGeoda\"].append(t1-t0)\n",
    "    if save_last:\n",
    "        last = {}\n",
    "        if no_numba:\n",
    "            last[\"No Numba\"] = old.p_sim\n",
    "        if numba_single:\n",
    "            last[\"Numba - Single Thread\"] = one.p_sim\n",
    "        if numba_multi:\n",
    "            last[\"Numba - Multi Thread\"] = mul.p_sim\n",
    "        if geoda:\n",
    "            last[\"PyGeoda\"] = lisa_geoda.GetPValues()\n",
    "        pvals = pandas.DataFrame(last)\n",
    "    else:\n",
    "        pvals = None\n",
    "    if geoda:\n",
    "        os.system(\"rm -rf tmp\")\n",
    "    return pandas.DataFrame(times), pvals"
   ]
  },
  {
   "cell_type": "markdown",
   "metadata": {},
   "source": [
    "## All counties"
   ]
  },
  {
   "cell_type": "code",
   "execution_count": 53,
   "metadata": {},
   "outputs": [
    {
     "name": "stdout",
     "output_type": "stream",
     "text": [
      "Workbench working on a 8-core machine\n",
      "CPU times: user 2min 38s, sys: 2.84 s, total: 2min 41s\n",
      "Wall time: 56.1 s\n"
     ]
    }
   ],
   "source": [
    "%%time\n",
    "res_counties = workbench(counties, \n",
    "                         \"HR70\", \n",
    "                         w_counties, \n",
    "                         perms=9999, \n",
    "                         runs=7,\n",
    "                         save_last=True\n",
    "                        )\n",
    "timing_counties, pvals_counties = res_counties"
   ]
  },
  {
   "cell_type": "code",
   "execution_count": 54,
   "metadata": {},
   "outputs": [
    {
     "data": {
      "text/plain": [
       "No Numba                 3.511575\n",
       "Numba - Single Thread    1.073173\n",
       "Numba - Multi Thread     0.568531\n",
       "PyGeoda                  1.108585\n",
       "dtype: float64"
      ]
     },
     "execution_count": 54,
     "metadata": {},
     "output_type": "execute_result"
    }
   ],
   "source": [
    "timing_counties.mean()"
   ]
  },
  {
   "cell_type": "code",
   "execution_count": 55,
   "metadata": {},
   "outputs": [
    {
     "data": {
      "text/plain": [
       "<matplotlib.axes._subplots.AxesSubplot at 0x7fd0ad72cb50>"
      ]
     },
     "execution_count": 55,
     "metadata": {},
     "output_type": "execute_result"
    },
    {
     "data": {
      "image/png": "[encoded data removed]",
      "text/plain": [
       "<Figure size 432x288 with 1 Axes>"
      ]
     },
     "metadata": {
      "needs_background": "light"
     },
     "output_type": "display_data"
    }
   ],
   "source": [
    "timing_counties.plot()"
   ]
  },
  {
   "cell_type": "code",
   "execution_count": 56,
   "metadata": {},
   "outputs": [
    {
     "data": {
      "text/plain": [
       "<matplotlib.axes._subplots.AxesSubplot at 0x7fd0aaf1ad90>"
      ]
     },
     "execution_count": 56,
     "metadata": {},
     "output_type": "execute_result"
    },
    {
     "data": {
      "image/png": "[encoded data removed]",
      "text/plain": [
       "<Figure size 432x288 with 1 Axes>"
      ]
     },
     "metadata": {
      "needs_background": "light"
     },
     "output_type": "display_data"
    }
   ],
   "source": [
    "pvals_counties.plot.scatter(\"PyGeoda\", \"Numba - Multi Thread\")"
   ]
  },
  {
   "cell_type": "markdown",
   "metadata": {},
   "source": [
    "## All tracts"
   ]
  },
  {
   "cell_type": "code",
   "execution_count": 47,
   "metadata": {},
   "outputs": [
    {
     "name": "stdout",
     "output_type": "stream",
     "text": [
      "Workbench working on a 8-core machine\n"
     ]
    },
    {
     "name": "stderr",
     "output_type": "stream",
     "text": [
      "/opt/conda/lib/python3.7/site-packages/joblib/externals/loky/process_executor.py:706: UserWarning: A worker stopped while some jobs were given to the executor. This can be caused by a too short worker timeout or by a memory leak.\n",
      "  \"timeout or by a memory leak.\", UserWarning\n",
      "/opt/conda/lib/python3.7/site-packages/joblib/externals/loky/process_executor.py:706: UserWarning: A worker stopped while some jobs were given to the executor. This can be caused by a too short worker timeout or by a memory leak.\n",
      "  \"timeout or by a memory leak.\", UserWarning\n"
     ]
    },
    {
     "name": "stdout",
     "output_type": "stream",
     "text": [
      "CPU times: user 47min 7s, sys: 52 s, total: 47min 59s\n",
      "Wall time: 17min 18s\n"
     ]
    }
   ],
   "source": [
    "%%time\n",
    "timing_tracts, pvals_tracts = workbench(tracts_noi, \n",
    "                                        \"median_household_income\", \n",
    "                                        w_tracts_noi, \n",
    "                                        perms=9999, \n",
    "                                        runs=3,\n",
    "                                        save_last=True\n",
    "                                       )"
   ]
  },
  {
   "cell_type": "code",
   "execution_count": 48,
   "metadata": {},
   "outputs": [
    {
     "data": {
      "text/plain": [
       "No Numba                 209.010330\n",
       "Numba - Single Thread     51.135469\n",
       "Numba - Multi Thread      26.789729\n",
       "PyGeoda                   40.246421\n",
       "dtype: float64"
      ]
     },
     "execution_count": 48,
     "metadata": {},
     "output_type": "execute_result"
    }
   ],
   "source": [
    "timing_tracts.mean()"
   ]
  },
  {
   "cell_type": "code",
   "execution_count": 49,
   "metadata": {},
   "outputs": [
    {
     "data": {
      "text/plain": [
       "<matplotlib.axes._subplots.AxesSubplot at 0x7fd0b9434290>"
      ]
     },
     "execution_count": 49,
     "metadata": {},
     "output_type": "execute_result"
    },
    {
     "data": {
      "image/png": "[encoded data removed]",
      "text/plain": [
       "<Figure size 432x288 with 1 Axes>"
      ]
     },
     "metadata": {
      "needs_background": "light"
     },
     "output_type": "display_data"
    }
   ],
   "source": [
    "timing_tracts.plot()"
   ]
  },
  {
   "cell_type": "code",
   "execution_count": 52,
   "metadata": {},
   "outputs": [
    {
     "data": {
      "text/html": [
       "<div>\n",
       "<style scoped>\n",
       "    .dataframe tbody tr th:only-of-type {\n",
       "        vertical-align: middle;\n",
       "    }\n",
       "\n",
       "    .dataframe tbody tr th {\n",
       "        vertical-align: top;\n",
       "    }\n",
       "\n",
       "    .dataframe thead th {\n",
       "        text-align: right;\n",
       "    }\n",
       "</style>\n",
       "<table border=\"1\" class=\"dataframe\">\n",
       "  <thead>\n",
       "    <tr style=\"text-align: right;\">\n",
       "      <th></th>\n",
       "      <th>No Numba</th>\n",
       "      <th>Numba - Single Thread</th>\n",
       "      <th>Numba - Multi Thread</th>\n",
       "      <th>PyGeoda</th>\n",
       "    </tr>\n",
       "  </thead>\n",
       "  <tbody>\n",
       "    <tr>\n",
       "      <th>0</th>\n",
       "      <td>0.2642</td>\n",
       "      <td>0.2629</td>\n",
       "      <td>0.2585</td>\n",
       "      <td>0.0001</td>\n",
       "    </tr>\n",
       "    <tr>\n",
       "      <th>1</th>\n",
       "      <td>0.0902</td>\n",
       "      <td>0.0887</td>\n",
       "      <td>0.0884</td>\n",
       "      <td>0.0001</td>\n",
       "    </tr>\n",
       "    <tr>\n",
       "      <th>2</th>\n",
       "      <td>0.0097</td>\n",
       "      <td>0.0132</td>\n",
       "      <td>0.0139</td>\n",
       "      <td>0.0001</td>\n",
       "    </tr>\n",
       "    <tr>\n",
       "      <th>3</th>\n",
       "      <td>0.3574</td>\n",
       "      <td>0.3575</td>\n",
       "      <td>0.3550</td>\n",
       "      <td>0.0001</td>\n",
       "    </tr>\n",
       "    <tr>\n",
       "      <th>4</th>\n",
       "      <td>0.2453</td>\n",
       "      <td>0.2459</td>\n",
       "      <td>0.2340</td>\n",
       "      <td>0.0001</td>\n",
       "    </tr>\n",
       "  </tbody>\n",
       "</table>\n",
       "</div>"
      ],
      "text/plain": [
       "   No Numba  Numba - Single Thread  Numba - Multi Thread  PyGeoda\n",
       "0    0.2642                 0.2629                0.2585   0.0001\n",
       "1    0.0902                 0.0887                0.0884   0.0001\n",
       "2    0.0097                 0.0132                0.0139   0.0001\n",
       "3    0.3574                 0.3575                0.3550   0.0001\n",
       "4    0.2453                 0.2459                0.2340   0.0001"
      ]
     },
     "execution_count": 52,
     "metadata": {},
     "output_type": "execute_result"
    }
   ],
   "source": [
    "pvals_tracts.head()"
   ]
  },
  {
   "cell_type": "code",
   "execution_count": 51,
   "metadata": {},
   "outputs": [
    {
     "data": {
      "text/plain": [
       "<matplotlib.axes._subplots.AxesSubplot at 0x7fd0af139d10>"
      ]
     },
     "execution_count": 51,
     "metadata": {},
     "output_type": "execute_result"
    },
    {
     "data": {
      "image/png": "[encoded data removed]",
      "text/plain": [
       "<Figure size 432x288 with 1 Axes>"
      ]
     },
     "metadata": {
      "needs_background": "light"
     },
     "output_type": "display_data"
    }
   ],
   "source": [
    "pvals_tracts.plot.scatter(\"Numba - Multi Thread\", \"No Numba\")"
   ]
  },
  {
   "cell_type": "markdown",
   "metadata": {},
   "source": [
    "---"
   ]
  },
  {
   "cell_type": "code",
   "execution_count": null,
   "metadata": {},
   "outputs": [
    {
     "name": "stdout",
     "output_type": "stream",
     "text": [
      "Workbench working on a 8-core machine\n"
     ]
    },
    {
     "name": "stderr",
     "output_type": "stream",
     "text": [
      "/opt/conda/lib/python3.7/site-packages/joblib/externals/loky/process_executor.py:706: UserWarning: A worker stopped while some jobs were given to the executor. This can be caused by a too short worker timeout or by a memory leak.\n",
      "  \"timeout or by a memory leak.\", UserWarning\n"
     ]
    }
   ],
   "source": [
    "%%time\n",
    "timing_tracts, pvals_tracts = workbench(tracts_noi, \n",
    "                                        \"median_household_income\", \n",
    "                                        w_tracts_noi, \n",
    "                                        perms=99999, \n",
    "                                        runs=3,\n",
    "                                        save_last=True,\n",
    "                                        no_numba=False\n",
    "                                       )"
   ]
  },
  {
   "cell_type": "code",
   "execution_count": 64,
   "metadata": {},
   "outputs": [
    {
     "data": {
      "text/plain": [
       "Numba - Single Thread    427.269421\n",
       "Numba - Multi Thread     248.592175\n",
       "PyGeoda                  441.695828\n",
       "dtype: float64"
      ]
     },
     "execution_count": 64,
     "metadata": {},
     "output_type": "execute_result"
    }
   ],
   "source": [
    "timing_tracts.mean()"
   ]
  },
  {
   "cell_type": "code",
   "execution_count": 66,
   "metadata": {},
   "outputs": [
    {
     "data": {
      "text/plain": [
       "<matplotlib.axes._subplots.AxesSubplot at 0x7fd0aa313e90>"
      ]
     },
     "execution_count": 66,
     "metadata": {},
     "output_type": "execute_result"
    },
    {
     "data": {
      "image/png": "[encoded data removed]",
      "text/plain": [
       "<Figure size 432x288 with 1 Axes>"
      ]
     },
     "metadata": {
      "needs_background": "light"
     },
     "output_type": "display_data"
    }
   ],
   "source": [
    "timing_tracts.plot()"
   ]
  },
  {
   "cell_type": "markdown",
   "metadata": {},
   "source": [
    "## All blocks"
   ]
  }
 ],
 "metadata": {
  "kernelspec": {
   "display_name": "Python 3",
   "language": "python",
   "name": "python3"
  },
  "language_info": {
   "codemirror_mode": {
    "name": "ipython",
    "version": 3
   },
   "file_extension": ".py",
   "mimetype": "text/x-python",
   "name": "python",
   "nbconvert_exporter": "python",
   "pygments_lexer": "ipython3",
   "version": "3.7.6"
  }
 },
 "nbformat": 4,
 "nbformat_minor": 4
}
