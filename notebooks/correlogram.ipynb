{
 "cells": [
  {
   "cell_type": "code",
   "execution_count": 1,
   "id": "0c88261c-c8d4-4638-a727-60d833b7d111",
   "metadata": {
    "execution": {
     "iopub.execute_input": "2023-08-05T22:38:08.827468Z",
     "iopub.status.busy": "2023-08-05T22:38:08.827205Z",
     "iopub.status.idle": "2023-08-05T22:38:09.918747Z",
     "shell.execute_reply": "2023-08-05T22:38:09.918338Z",
     "shell.execute_reply.started": "2023-08-05T22:38:08.827374Z"
    },
    "tags": []
   },
   "outputs": [
    {
     "name": "stdout",
     "output_type": "stream",
     "text": [
      "Author: eli knaap\n",
      "\n"
     ]
    }
   ],
   "source": [
    "%load_ext watermark\n",
    "%watermark -a 'eli knaap'\n",
    "%load_ext autoreload\n",
    "%autoreload 2\n",
    "\n",
    "from libpysal import examples\n",
    "from esda import correlogram\n",
    "\n",
    "import geopandas as gpd"
   ]
  },
  {
   "cell_type": "code",
   "execution_count": 2,
   "id": "68d86eb6-8595-48f0-a244-8889c59e770d",
   "metadata": {
    "execution": {
     "iopub.execute_input": "2023-08-05T22:38:09.920052Z",
     "iopub.status.busy": "2023-08-05T22:38:09.919906Z",
     "iopub.status.idle": "2023-08-05T22:38:10.131010Z",
     "shell.execute_reply": "2023-08-05T22:38:10.130752Z",
     "shell.execute_reply.started": "2023-08-05T22:38:09.920043Z"
    },
    "tags": []
   },
   "outputs": [],
   "source": [
    "sac = gpd.read_file(examples.load_example(\"Sacramento1\").get_path(\"sacramentot2.shp\"))"
   ]
  },
  {
   "cell_type": "code",
   "execution_count": 3,
   "id": "2650732f-b704-4af8-bfee-ccd8c75cf133",
   "metadata": {
    "execution": {
     "iopub.execute_input": "2023-08-05T22:38:10.131596Z",
     "iopub.status.busy": "2023-08-05T22:38:10.131507Z",
     "iopub.status.idle": "2023-08-05T22:38:10.206997Z",
     "shell.execute_reply": "2023-08-05T22:38:10.206722Z",
     "shell.execute_reply.started": "2023-08-05T22:38:10.131587Z"
    },
    "tags": []
   },
   "outputs": [],
   "source": [
    "sac = sac.to_crs(sac.estimate_utm_crs())  # now in meters)"
   ]
  },
  {
   "cell_type": "code",
   "execution_count": 4,
   "id": "d3b1de58-3fb4-4874-ae5b-63f5e03f869d",
   "metadata": {
    "execution": {
     "iopub.execute_input": "2023-08-05T22:38:10.207610Z",
     "iopub.status.busy": "2023-08-05T22:38:10.207522Z",
     "iopub.status.idle": "2023-08-05T22:38:10.252685Z",
     "shell.execute_reply": "2023-08-05T22:38:10.252390Z",
     "shell.execute_reply.started": "2023-08-05T22:38:10.207601Z"
    },
    "tags": []
   },
   "outputs": [
    {
     "name": "stdout",
     "output_type": "stream",
     "text": [
      "\u001b[31mSignature:\u001b[39m\n",
      "correlogram(\n",
      "    geometry: geopandas.geoseries.GeoSeries,\n",
      "    variable: str | list | pandas.core.series.Series | \u001b[38;5;28;01mNone\u001b[39;00m,\n",
      "    support: list | \u001b[38;5;28;01mNone\u001b[39;00m = \u001b[38;5;28;01mNone\u001b[39;00m,\n",
      "    statistic: collections.abc.Callable | str = <\u001b[38;5;28;01mclass\u001b[39;00m \u001b[33m'esda.moran.Moran'\u001b[39m>,\n",
      "    distance_type: str = \u001b[33m'band'\u001b[39m,\n",
      "    weights_kwargs: dict = \u001b[38;5;28;01mNone\u001b[39;00m,\n",
      "    stat_kwargs: dict = \u001b[38;5;28;01mNone\u001b[39;00m,\n",
      "    select_numeric: bool = \u001b[38;5;28;01mFalse\u001b[39;00m,\n",
      "    n_jobs: int = -\u001b[32m1\u001b[39m,\n",
      "    n_bins: int | \u001b[38;5;28;01mNone\u001b[39;00m = \u001b[32m50\u001b[39m,\n",
      ") -> pandas.core.frame.DataFrame\n",
      "\u001b[31mDocstring:\u001b[39m\n",
      "Generate a spatial correlogram\n",
      "\n",
      "A spatial profile is a set of spatial autocorrelation statistics calculated for\n",
      "a set of increasing distances. It is a useful exploratory tool for examining\n",
      "how the relationship between spatial units changes over different notions of scale.\n",
      "\n",
      "Parameters\n",
      "----------\n",
      "geometry : gpd.GeoSeries\n",
      "    geodataframe holding spatial and attribute data\n",
      "variable: pd.Series or list\n",
      "    pandas series matching input geometries\n",
      "support : list or None\n",
      "    list of values at which to compute the autocorrelation statistic\n",
      "statistic : callable or str\n",
      "    statistic to be computed for a range of libpysal.Graph specifications.\n",
      "    This should be a class with a signature like `Statistic(y,w, **kwargs)`\n",
      "    where y is a  array and w is a libpysal.weights.W object\n",
      "    Generally, this is a class from pysal's `esda` package\n",
      "    defaults to esda.Moran, which computes the Moran's I statistic. If\n",
      "    'lowess' is provided, a non-parametric correlogram is computed using\n",
      "    lowess regression on the spatial-covariation model, see Notes.\n",
      "distance_type : str, optional\n",
      "    which concept of distance to increment. Options are {`band`, `knn`}.\n",
      "    by default 'band' (for `libpysal.weights.DistanceBand` weights)\n",
      "weights_kwargs : dict\n",
      "    additional keyword arguments passed to the libpysal.weights.W class\n",
      "stat_kwargs : dict\n",
      "    additional keyword arguments passed to the `esda` autocorrelation statistic class.\n",
      "    For example for faster results with no statistical inference, set the number\n",
      "    of permutations to zero with stat_kwargs={permutations: 0}\n",
      "select_numeric : bool\n",
      "    if True, only return numeric attributes from the original class. This is useful\n",
      "    e.g. to prevent lists inside a \"cell\" of a dataframe\n",
      "n_jobs : int\n",
      "    number of jobs to pass to joblib. If -1 (default), all cores will be used\n",
      "n_bins : int\n",
      "    number of distance bands or k-nearest neighbor values to use if\n",
      "    `support` is not provided. Ignored if `support` is provided.\n",
      "    by default 10. If `distance_type` is 'knn', the number of neighbors\n",
      "    will be capped at n-1, where n is the number of observations. Further,\n",
      "    if n-1 is not divisible by `n_bins`, the actual number of bins will be\n",
      "    may be off by one bin.\n",
      "\n",
      "Returns\n",
      "-------\n",
      "outputs : pandas.DataFrame\n",
      "    table of autocorrelation statistics at increasing distance bandwidths\n",
      "\n",
      "Notes\n",
      "-----\n",
      "The nonparametric correlogram uses a lowess regression\n",
      "to estimate the spatial-covariation model:\n",
      "\n",
      "    zi*zj = f(d_{ij}) + e_ij\n",
      "\n",
      "where f is a smooth function of distance d_{ij} between points i and j.\n",
      "This function requires the statsmodels package to be installed.\n",
      "\n",
      "For the nonparametric correlogram, a precomputed distance matrix can\n",
      "be used. To do this, set\n",
      "stat_kwargs={'metric':'precomputed', 'coordinates':distance_matrix}\n",
      "where `distance_matrix` is a square matrix of pairwise distances that\n",
      "aligns with the `geometry` rows.\n",
      "\u001b[31mFile:\u001b[39m      ~/Dropbox/work/dev/esda/esda/correlogram.py\n",
      "\u001b[31mType:\u001b[39m      function"
     ]
    }
   ],
   "source": [
    "correlogram?"
   ]
  },
  {
   "cell_type": "code",
   "execution_count": 5,
   "id": "90fc27f4-1f71-4a39-bcd1-339fa27fa3b4",
   "metadata": {
    "execution": {
     "iopub.execute_input": "2023-08-05T22:38:10.253267Z",
     "iopub.status.busy": "2023-08-05T22:38:10.253180Z",
     "iopub.status.idle": "2023-08-05T22:38:10.283353Z",
     "shell.execute_reply": "2023-08-05T22:38:10.282850Z",
     "shell.execute_reply.started": "2023-08-05T22:38:10.253257Z"
    },
    "tags": []
   },
   "outputs": [],
   "source": [
    "from esda import Moran, Geary, G"
   ]
  },
  {
   "cell_type": "markdown",
   "id": "d77ee874-e889-4d60-a039-434906696451",
   "metadata": {},
   "source": [
    "## Distance Bands"
   ]
  },
  {
   "cell_type": "code",
   "execution_count": 6,
   "id": "ab615631-b083-4700-b402-8dd8343cc790",
   "metadata": {
    "execution": {
     "iopub.execute_input": "2023-08-05T22:38:10.283933Z",
     "iopub.status.busy": "2023-08-05T22:38:10.283848Z",
     "iopub.status.idle": "2023-08-05T22:38:10.313104Z",
     "shell.execute_reply": "2023-08-05T22:38:10.312763Z",
     "shell.execute_reply.started": "2023-08-05T22:38:10.283925Z"
    },
    "tags": []
   },
   "outputs": [],
   "source": [
    "# Create a liste of distances between 500 and 5000 (meters, here) in increments of 500\n",
    "\n",
    "distances = [i+500 for i in range(0,5000, 500)]"
   ]
  },
  {
   "cell_type": "code",
   "execution_count": 7,
   "id": "049e4002-52a1-4205-9238-bfdb175f04ff",
   "metadata": {
    "execution": {
     "iopub.execute_input": "2023-08-05T22:38:10.315016Z",
     "iopub.status.busy": "2023-08-05T22:38:10.314723Z",
     "iopub.status.idle": "2023-08-05T22:38:10.343152Z",
     "shell.execute_reply": "2023-08-05T22:38:10.342713Z",
     "shell.execute_reply.started": "2023-08-05T22:38:10.315005Z"
    },
    "tags": []
   },
   "outputs": [
    {
     "data": {
      "text/plain": [
       "[500, 1000, 1500, 2000, 2500, 3000, 3500, 4000, 4500, 5000]"
      ]
     },
     "execution_count": 7,
     "metadata": {},
     "output_type": "execute_result"
    }
   ],
   "source": [
    "distances"
   ]
  },
  {
   "cell_type": "markdown",
   "id": "d5642b21-6e3c-46ed-8c6f-5ada5baec96d",
   "metadata": {},
   "source": [
    "The correlogram will compute an autocorrelation statistic (Moran's $I$ by default) at each distance threshold. Plotting this statistic against distance reveals how spatial similarity changes over distance (similar in concept to a variogram)"
   ]
  },
  {
   "cell_type": "code",
   "execution_count": null,
   "id": "9d546402-f9c8-407c-945e-b72979fc9df8",
   "metadata": {
    "tags": []
   },
   "outputs": [],
   "source": [
    "prof = correlogram(\n",
    "    sac.centroid, \n",
    "    sac.HH_INC, \n",
    "    distances, \n",
    "    Moran\n",
    ")"
   ]
  },
  {
   "cell_type": "markdown",
   "id": "5187da59-aba0-465d-9fa7-e22794c8eb1a",
   "metadata": {},
   "source": [
    "`prof` is a dataframe of autocorrelation statistics indexed by distance. It includes all attributes created by the esda autocorrelation statistic class (e.g. [Moran](https://pysal.org/esda/generated/esda.Moran.html#esda.Moran), [Geary](https://pysal.org/esda/generated/esda.Geary.html#esda.Geary), or [Geits-Ord G](https://pysal.org/esda/generated/esda.G.html#esda.G)). The row index for each statistic is the distance at which it was computed"
   ]
  },
  {
   "cell_type": "code",
   "execution_count": 9,
   "id": "af5bad37-874a-483b-a692-a3ae205416f8",
   "metadata": {
    "execution": {
     "iopub.execute_input": "2023-08-05T22:38:11.719943Z",
     "iopub.status.busy": "2023-08-05T22:38:11.719810Z",
     "iopub.status.idle": "2023-08-05T22:38:11.764412Z",
     "shell.execute_reply": "2023-08-05T22:38:11.764069Z",
     "shell.execute_reply.started": "2023-08-05T22:38:11.719928Z"
    },
    "tags": []
   },
   "outputs": [
    {
     "data": {
      "text/html": [
       "<div>\n",
       "<style scoped>\n",
       "    .dataframe tbody tr th:only-of-type {\n",
       "        vertical-align: middle;\n",
       "    }\n",
       "\n",
       "    .dataframe tbody tr th {\n",
       "        vertical-align: top;\n",
       "    }\n",
       "\n",
       "    .dataframe thead th {\n",
       "        text-align: right;\n",
       "    }\n",
       "</style>\n",
       "<table border=\"1\" class=\"dataframe\">\n",
       "  <thead>\n",
       "    <tr style=\"text-align: right;\">\n",
       "      <th></th>\n",
       "      <th>y</th>\n",
       "      <th>w</th>\n",
       "      <th>permutations</th>\n",
       "      <th>n</th>\n",
       "      <th>z</th>\n",
       "      <th>z2ss</th>\n",
       "      <th>EI</th>\n",
       "      <th>VI_norm</th>\n",
       "      <th>seI_norm</th>\n",
       "      <th>VI_rand</th>\n",
       "      <th>...</th>\n",
       "      <th>z_rand</th>\n",
       "      <th>p_norm</th>\n",
       "      <th>p_rand</th>\n",
       "      <th>sim</th>\n",
       "      <th>p_sim</th>\n",
       "      <th>EI_sim</th>\n",
       "      <th>seI_sim</th>\n",
       "      <th>VI_sim</th>\n",
       "      <th>z_sim</th>\n",
       "      <th>p_z_sim</th>\n",
       "    </tr>\n",
       "  </thead>\n",
       "  <tbody>\n",
       "    <tr>\n",
       "      <th>500</th>\n",
       "      <td>[52941, 51958, 32992, 54556, 50815, 60167, 490...</td>\n",
       "      <td>&lt;libpysal.weights.distance.DistanceBand object...</td>\n",
       "      <td>999</td>\n",
       "      <td>403</td>\n",
       "      <td>[0.27506115837390277, 0.21948138443207246, -0....</td>\n",
       "      <td>1.260604e+11</td>\n",
       "      <td>-0.002488</td>\n",
       "      <td>0.497534</td>\n",
       "      <td>0.705361</td>\n",
       "      <td>0.496239</td>\n",
       "      <td>...</td>\n",
       "      <td>0.086188</td>\n",
       "      <td>9.314058e-01</td>\n",
       "      <td>9.313166e-01</td>\n",
       "      <td>[-0.041149125017795225, 0.8047828919464444, 0....</td>\n",
       "      <td>0.465</td>\n",
       "      <td>-0.017506</td>\n",
       "      <td>0.693436</td>\n",
       "      <td>0.480854</td>\n",
       "      <td>0.109214</td>\n",
       "      <td>4.565164e-01</td>\n",
       "    </tr>\n",
       "    <tr>\n",
       "      <th>1000</th>\n",
       "      <td>[52941, 51958, 32992, 54556, 50815, 60167, 490...</td>\n",
       "      <td>&lt;libpysal.weights.distance.DistanceBand object...</td>\n",
       "      <td>999</td>\n",
       "      <td>403</td>\n",
       "      <td>[0.27506115837390277, 0.21948138443207246, -0....</td>\n",
       "      <td>1.260604e+11</td>\n",
       "      <td>-0.002488</td>\n",
       "      <td>0.014259</td>\n",
       "      <td>0.119409</td>\n",
       "      <td>0.014221</td>\n",
       "      <td>...</td>\n",
       "      <td>4.147088</td>\n",
       "      <td>3.447621e-05</td>\n",
       "      <td>3.367309e-05</td>\n",
       "      <td>[0.01407910066509541, -0.09399265148441757, -0...</td>\n",
       "      <td>0.001</td>\n",
       "      <td>-0.007273</td>\n",
       "      <td>0.120349</td>\n",
       "      <td>0.014484</td>\n",
       "      <td>4.149132</td>\n",
       "      <td>1.668694e-05</td>\n",
       "    </tr>\n",
       "    <tr>\n",
       "      <th>1500</th>\n",
       "      <td>[52941, 51958, 32992, 54556, 50815, 60167, 490...</td>\n",
       "      <td>&lt;libpysal.weights.distance.DistanceBand object...</td>\n",
       "      <td>999</td>\n",
       "      <td>403</td>\n",
       "      <td>[0.27506115837390277, 0.21948138443207246, -0....</td>\n",
       "      <td>1.260604e+11</td>\n",
       "      <td>-0.002488</td>\n",
       "      <td>0.004586</td>\n",
       "      <td>0.067719</td>\n",
       "      <td>0.004574</td>\n",
       "      <td>...</td>\n",
       "      <td>6.763620</td>\n",
       "      <td>1.430242e-11</td>\n",
       "      <td>1.345857e-11</td>\n",
       "      <td>[-0.028776580865062164, 0.07946937157388524, 0...</td>\n",
       "      <td>0.001</td>\n",
       "      <td>-0.003352</td>\n",
       "      <td>0.067581</td>\n",
       "      <td>0.004567</td>\n",
       "      <td>6.781418</td>\n",
       "      <td>5.950106e-12</td>\n",
       "    </tr>\n",
       "    <tr>\n",
       "      <th>2000</th>\n",
       "      <td>[52941, 51958, 32992, 54556, 50815, 60167, 490...</td>\n",
       "      <td>&lt;libpysal.weights.distance.DistanceBand object...</td>\n",
       "      <td>999</td>\n",
       "      <td>403</td>\n",
       "      <td>[0.27506115837390277, 0.21948138443207246, -0....</td>\n",
       "      <td>1.260604e+11</td>\n",
       "      <td>-0.002488</td>\n",
       "      <td>0.002164</td>\n",
       "      <td>0.046515</td>\n",
       "      <td>0.002158</td>\n",
       "      <td>...</td>\n",
       "      <td>12.164298</td>\n",
       "      <td>5.846476e-34</td>\n",
       "      <td>4.815656e-34</td>\n",
       "      <td>[-0.0566559868640034, 0.06456200403436937, -0....</td>\n",
       "      <td>0.001</td>\n",
       "      <td>-0.000508</td>\n",
       "      <td>0.047756</td>\n",
       "      <td>0.002281</td>\n",
       "      <td>11.791263</td>\n",
       "      <td>2.164994e-32</td>\n",
       "    </tr>\n",
       "    <tr>\n",
       "      <th>2500</th>\n",
       "      <td>[52941, 51958, 32992, 54556, 50815, 60167, 490...</td>\n",
       "      <td>&lt;libpysal.weights.distance.DistanceBand object...</td>\n",
       "      <td>999</td>\n",
       "      <td>403</td>\n",
       "      <td>[0.27506115837390277, 0.21948138443207246, -0....</td>\n",
       "      <td>1.260604e+11</td>\n",
       "      <td>-0.002488</td>\n",
       "      <td>0.001481</td>\n",
       "      <td>0.038483</td>\n",
       "      <td>0.001477</td>\n",
       "      <td>...</td>\n",
       "      <td>13.102771</td>\n",
       "      <td>3.974924e-39</td>\n",
       "      <td>3.174519e-39</td>\n",
       "      <td>[-0.03272028047068946, -0.025327634962963246, ...</td>\n",
       "      <td>0.001</td>\n",
       "      <td>-0.002785</td>\n",
       "      <td>0.039315</td>\n",
       "      <td>0.001546</td>\n",
       "      <td>12.816543</td>\n",
       "      <td>6.623787e-38</td>\n",
       "    </tr>\n",
       "  </tbody>\n",
       "</table>\n",
       "<p>5 rows × 23 columns</p>\n",
       "</div>"
      ],
      "text/plain": [
       "                                                      y  \\\n",
       "500   [52941, 51958, 32992, 54556, 50815, 60167, 490...   \n",
       "1000  [52941, 51958, 32992, 54556, 50815, 60167, 490...   \n",
       "1500  [52941, 51958, 32992, 54556, 50815, 60167, 490...   \n",
       "2000  [52941, 51958, 32992, 54556, 50815, 60167, 490...   \n",
       "2500  [52941, 51958, 32992, 54556, 50815, 60167, 490...   \n",
       "\n",
       "                                                      w  permutations    n  \\\n",
       "500   <libpysal.weights.distance.DistanceBand object...           999  403   \n",
       "1000  <libpysal.weights.distance.DistanceBand object...           999  403   \n",
       "1500  <libpysal.weights.distance.DistanceBand object...           999  403   \n",
       "2000  <libpysal.weights.distance.DistanceBand object...           999  403   \n",
       "2500  <libpysal.weights.distance.DistanceBand object...           999  403   \n",
       "\n",
       "                                                      z          z2ss  \\\n",
       "500   [0.27506115837390277, 0.21948138443207246, -0....  1.260604e+11   \n",
       "1000  [0.27506115837390277, 0.21948138443207246, -0....  1.260604e+11   \n",
       "1500  [0.27506115837390277, 0.21948138443207246, -0....  1.260604e+11   \n",
       "2000  [0.27506115837390277, 0.21948138443207246, -0....  1.260604e+11   \n",
       "2500  [0.27506115837390277, 0.21948138443207246, -0....  1.260604e+11   \n",
       "\n",
       "            EI   VI_norm  seI_norm   VI_rand  ...     z_rand        p_norm  \\\n",
       "500  -0.002488  0.497534  0.705361  0.496239  ...   0.086188  9.314058e-01   \n",
       "1000 -0.002488  0.014259  0.119409  0.014221  ...   4.147088  3.447621e-05   \n",
       "1500 -0.002488  0.004586  0.067719  0.004574  ...   6.763620  1.430242e-11   \n",
       "2000 -0.002488  0.002164  0.046515  0.002158  ...  12.164298  5.846476e-34   \n",
       "2500 -0.002488  0.001481  0.038483  0.001477  ...  13.102771  3.974924e-39   \n",
       "\n",
       "            p_rand                                                sim  p_sim  \\\n",
       "500   9.313166e-01  [-0.041149125017795225, 0.8047828919464444, 0....  0.465   \n",
       "1000  3.367309e-05  [0.01407910066509541, -0.09399265148441757, -0...  0.001   \n",
       "1500  1.345857e-11  [-0.028776580865062164, 0.07946937157388524, 0...  0.001   \n",
       "2000  4.815656e-34  [-0.0566559868640034, 0.06456200403436937, -0....  0.001   \n",
       "2500  3.174519e-39  [-0.03272028047068946, -0.025327634962963246, ...  0.001   \n",
       "\n",
       "        EI_sim   seI_sim    VI_sim      z_sim       p_z_sim  \n",
       "500  -0.017506  0.693436  0.480854   0.109214  4.565164e-01  \n",
       "1000 -0.007273  0.120349  0.014484   4.149132  1.668694e-05  \n",
       "1500 -0.003352  0.067581  0.004567   6.781418  5.950106e-12  \n",
       "2000 -0.000508  0.047756  0.002281  11.791263  2.164994e-32  \n",
       "2500 -0.002785  0.039315  0.001546  12.816543  6.623787e-38  \n",
       "\n",
       "[5 rows x 23 columns]"
      ]
     },
     "execution_count": 9,
     "metadata": {},
     "output_type": "execute_result"
    }
   ],
   "source": [
    "prof.head()"
   ]
  },
  {
   "cell_type": "markdown",
   "id": "fc0196ce-f47d-424b-8ca6-2ef56c25193b",
   "metadata": {},
   "source": [
    "Often, it is easiest to visualize the statistic, and the pandas `plot` function will plot a column against the dataframe's index by default"
   ]
  },
  {
   "cell_type": "code",
   "execution_count": null,
   "id": "d82a3e65-4cfd-43d7-990c-2dde5fb23ee9",
   "metadata": {
    "execution": {
     "iopub.execute_input": "2023-08-05T22:38:11.764940Z",
     "iopub.status.busy": "2023-08-05T22:38:11.764861Z",
     "iopub.status.idle": "2023-08-05T22:38:12.073150Z",
     "shell.execute_reply": "2023-08-05T22:38:12.072868Z",
     "shell.execute_reply.started": "2023-08-05T22:38:11.764931Z"
    },
    "tags": []
   },
   "outputs": [
    {
     "data": {
      "text/plain": [
       "<Axes: >"
      ]
     },
     "execution_count": 10,
     "metadata": {},
     "output_type": "execute_result"
    },
    {
     "data": {
      "image/png": "[encoded data removed]",
      "text/plain": [
       "<Figure size 640x480 with 1 Axes>"
      ]
     },
     "metadata": {},
     "output_type": "display_data"
    }
   ],
   "source": [
    "prof.I.plot()\n",
    "ax.set_xlabel(\"distance (m)\")\n",
    "ax.set_ylabel(\"Moran's I\")"
   ]
  },
  {
   "cell_type": "markdown",
   "id": "746f27c2-664b-4d75-abb2-5b202d96c4ab",
   "metadata": {},
   "source": [
    "Autocorrelation statistics differ in concept, so the shape of the spatial correlogram statistic will vary considerably, based on which statistic is created. For example, we can also plot Geary's $C$"
   ]
  },
  {
   "cell_type": "code",
   "execution_count": null,
   "id": "511b4ce9-9c68-4142-a6b7-f202b39a9951",
   "metadata": {
    "execution": {
     "iopub.execute_input": "2023-08-05T22:38:12.073772Z",
     "iopub.status.busy": "2023-08-05T22:38:12.073633Z",
     "iopub.status.idle": "2023-08-05T22:38:12.251370Z",
     "shell.execute_reply": "2023-08-05T22:38:12.250906Z",
     "shell.execute_reply.started": "2023-08-05T22:38:12.073764Z"
    },
    "tags": []
   },
   "outputs": [],
   "source": [
    "prof = correlogram(\n",
    "    sac.centroid, \n",
    "    sac.HH_INC, \n",
    "    distances, \n",
    "    statistic=Geary\n",
    ")"
   ]
  },
  {
   "cell_type": "code",
   "execution_count": null,
   "id": "8586e477-faac-434c-90e3-fbc34e044375",
   "metadata": {
    "execution": {
     "iopub.execute_input": "2023-08-05T22:38:12.252069Z",
     "iopub.status.busy": "2023-08-05T22:38:12.251970Z",
     "iopub.status.idle": "2023-08-05T22:38:12.354317Z",
     "shell.execute_reply": "2023-08-05T22:38:12.353996Z",
     "shell.execute_reply.started": "2023-08-05T22:38:12.252060Z"
    },
    "tags": []
   },
   "outputs": [
    {
     "data": {
      "text/plain": [
       "<Axes: >"
      ]
     },
     "execution_count": 12,
     "metadata": {},
     "output_type": "execute_result"
    },
    {
     "data": {
      "image/png": "[encoded data removed]",
      "text/plain": [
       "<Figure size 640x480 with 1 Axes>"
      ]
     },
     "metadata": {},
     "output_type": "display_data"
    }
   ],
   "source": [
    "ax = prof.C.plot()\n",
    "ax.set_xlabel(\"distance (m)\")\n",
    "ax.set_ylabel(\"Geary's C\")"
   ]
  },
  {
   "cell_type": "markdown",
   "id": "39390947-1cd9-4a4a-9e9b-71bb7c493b39",
   "metadata": {},
   "source": [
    "...Or Getis-Ord $G$"
   ]
  },
  {
   "cell_type": "code",
   "execution_count": null,
   "id": "d9984fc2-400b-4561-9158-c2a28ac25476",
   "metadata": {
    "execution": {
     "iopub.execute_input": "2023-08-05T22:38:12.355011Z",
     "iopub.status.busy": "2023-08-05T22:38:12.354787Z",
     "iopub.status.idle": "2023-08-05T22:38:12.480568Z",
     "shell.execute_reply": "2023-08-05T22:38:12.480260Z",
     "shell.execute_reply.started": "2023-08-05T22:38:12.355001Z"
    },
    "tags": []
   },
   "outputs": [],
   "source": [
    "prof = correlogram(\n",
    "    sac.centroid, \n",
    "    sac.HH_INC, \n",
    "    distances, \n",
    "    statistic=G\n",
    ")"
   ]
  },
  {
   "cell_type": "code",
   "execution_count": null,
   "id": "61cb28fd-2e07-44df-8b25-b11b4b06e9f4",
   "metadata": {
    "execution": {
     "iopub.execute_input": "2023-08-05T22:38:12.481090Z",
     "iopub.status.busy": "2023-08-05T22:38:12.481003Z",
     "iopub.status.idle": "2023-08-05T22:38:12.589553Z",
     "shell.execute_reply": "2023-08-05T22:38:12.589289Z",
     "shell.execute_reply.started": "2023-08-05T22:38:12.481081Z"
    },
    "tags": []
   },
   "outputs": [
    {
     "data": {
      "text/plain": [
       "<Axes: >"
      ]
     },
     "execution_count": 14,
     "metadata": {},
     "output_type": "execute_result"
    },
    {
     "data": {
      "image/png": "[encoded data removed]",
      "text/plain": [
       "<Figure size 640x480 with 1 Axes>"
      ]
     },
     "metadata": {},
     "output_type": "display_data"
    }
   ],
   "source": [
    "ax = prof.G.plot()\n",
    "ax.set_xlabel(\"distance (m)\")\n",
    "ax.set_ylabel(\"Getis-Ord G\")"
   ]
  },
  {
   "cell_type": "markdown",
   "id": "f7d77976",
   "metadata": {},
   "source": [
    "You can also leave the distance thresholds unspecified, and the correlogram will estimate over a reasonable range of distances:"
   ]
  },
  {
   "cell_type": "code",
   "execution_count": null,
   "id": "8189ff3a",
   "metadata": {},
   "outputs": [
    {
     "data": {
      "text/plain": [
       "<Axes: >"
      ]
     },
     "execution_count": 15,
     "metadata": {},
     "output_type": "execute_result"
    },
    {
     "data": {
      "image/png": "[encoded data removed]",
      "text/plain": [
       "<Figure size 640x480 with 1 Axes>"
      ]
     },
     "metadata": {},
     "output_type": "display_data"
    }
   ],
   "source": [
    "prof = correlogram(\n",
    "    sac.centroid, \n",
    "    sac.HH_INC, \n",
    "    statistic=G\n",
    ")\n",
    "ax = prof.G.plot()\n",
    "ax.set_xlabel(\"distance (m)\")\n",
    "ax.set_ylabel(\"Getis-Ord G\")"
   ]
  },
  {
   "cell_type": "markdown",
   "id": "9d885279-a3d6-45bf-ad17-2eff155cff76",
   "metadata": {},
   "source": [
    "## KNN Distance"
   ]
  },
  {
   "cell_type": "markdown",
   "id": "3db93010-f7d2-45f2-8121-c8ebf0ae71a9",
   "metadata": {},
   "source": [
    "It is also possible to consider different concepts of *distance*. For example, rather than stepping through increments of Euclidean distance/length at each interval, we could instead step through increments of nearest-neighbors.\n",
    "\n",
    "Instead of adding neighbors using sequential distances of 500 meters, here we will step through the 50 nearest neighbors, adding one neighbor at a time"
   ]
  },
  {
   "cell_type": "code",
   "execution_count": 16,
   "id": "42a8033a-9058-4e92-80c9-939a13e83a5b",
   "metadata": {
    "execution": {
     "iopub.execute_input": "2023-08-05T22:38:12.590257Z",
     "iopub.status.busy": "2023-08-05T22:38:12.590111Z",
     "iopub.status.idle": "2023-08-05T22:38:12.620312Z",
     "shell.execute_reply": "2023-08-05T22:38:12.620010Z",
     "shell.execute_reply.started": "2023-08-05T22:38:12.590247Z"
    },
    "tags": []
   },
   "outputs": [],
   "source": [
    "kdists = list(range(1,50))"
   ]
  },
  {
   "cell_type": "code",
   "execution_count": 20,
   "id": "772cc3aa-1aae-4faf-bac1-b51b4d774a9e",
   "metadata": {
    "execution": {
     "iopub.execute_input": "2023-08-05T22:38:12.652697Z",
     "iopub.status.busy": "2023-08-05T22:38:12.652620Z",
     "iopub.status.idle": "2023-08-05T22:38:13.009186Z",
     "shell.execute_reply": "2023-08-05T22:38:13.008871Z",
     "shell.execute_reply.started": "2023-08-05T22:38:12.652690Z"
    },
    "tags": []
   },
   "outputs": [],
   "source": [
    "kcorr = correlogram(sac.centroid, sac.HH_INC, kdists, distance_type='knn')"
   ]
  },
  {
   "cell_type": "code",
   "execution_count": null,
   "id": "fd15a2dc-437e-436d-af31-745b09369209",
   "metadata": {
    "execution": {
     "iopub.execute_input": "2023-08-05T22:38:13.009837Z",
     "iopub.status.busy": "2023-08-05T22:38:13.009749Z",
     "iopub.status.idle": "2023-08-05T22:38:13.115678Z",
     "shell.execute_reply": "2023-08-05T22:38:13.115409Z",
     "shell.execute_reply.started": "2023-08-05T22:38:13.009828Z"
    },
    "tags": []
   },
   "outputs": [
    {
     "data": {
      "text/plain": [
       "<Axes: >"
      ]
     },
     "execution_count": 21,
     "metadata": {},
     "output_type": "execute_result"
    },
    {
     "data": {
      "image/png": "[encoded data removed]",
      "text/plain": [
       "<Figure size 640x480 with 1 Axes>"
      ]
     },
     "metadata": {},
     "output_type": "display_data"
    }
   ],
   "source": [
    "ax = kcorr.I.plot()\n",
    "ax.set_xlabel(\"number of nearest neighbors\")\n",
    "ax.set_ylabel(\"Moran's I\")"
   ]
  },
  {
   "cell_type": "markdown",
   "id": "6ce895b3-7af7-4c16-94b0-7f4a724e55ea",
   "metadata": {},
   "source": [
    "# Nonparametric"
   ]
  },
  {
   "cell_type": "markdown",
   "id": "e31a4e2e",
   "metadata": {},
   "source": [
    "Finally it is also possible to fit a non-parametric curve to estimate spatial autocorrelation as a function of distance. This is done using a LOWESS smoother, which fits a locally-weighted polynomial regression to the data based on the following regression: \n",
    "\n",
    "$$ z_iz_j = f(d_{ij}) + u_{ij}$$\n",
    "\n",
    "where $z_i$ and $z_j$ are standardized values of the variable of interest at locations $i$ and $j$, $d_{ij}$ is the distance between locations $i$ and $j$, and $u_{ij}$ is an error term. The function $f$ is estimated using a LOWESS smoother, which fits a locally-weighted polynomial regression to the data.\n",
    "\n",
    "This can be interpreted as the correlation between observations separated by *approximately* the distance on the horizontal axis."
   ]
  },
  {
   "cell_type": "code",
   "execution_count": 26,
   "id": "cd4fb7fa",
   "metadata": {},
   "outputs": [
    {
     "data": {
      "text/plain": [
       "Text(0, 0.5, 'Correlation between pairs\\napproximately this separation')"
      ]
     },
     "execution_count": 26,
     "metadata": {},
     "output_type": "execute_result"
    },
    {
     "data": {
      "image/png": "[encoded data removed]",
      "text/plain": [
       "<Figure size 640x480 with 1 Axes>"
      ]
     },
     "metadata": {},
     "output_type": "display_data"
    }
   ],
   "source": [
    "nonparametric = correlogram(sac.centroid, sac.HH_INC, statistic='lowess')\n",
    "ax = nonparametric.lowess.plot()\n",
    "ax.set_xlabel(\"Distance (m)\")\n",
    "ax.set_ylabel(\"Correlation between pairs\\napproximately this separation\")"
   ]
  },
  {
   "cell_type": "code",
   "execution_count": null,
   "id": "c99a4c51",
   "metadata": {},
   "outputs": [],
   "source": []
  }
 ],
 "metadata": {
  "kernelspec": {
   "display_name": "Analysis",
   "language": "python",
   "name": "analysis"
  },
  "language_info": {
   "codemirror_mode": {
    "name": "ipython",
    "version": 3
   },
   "file_extension": ".py",
   "mimetype": "text/x-python",
   "name": "python",
   "nbconvert_exporter": "python",
   "pygments_lexer": "ipython3",
   "version": "3.11.11"
  },
  "widgets": {
   "application/vnd.jupyter.widget-state+json": {
    "state": {},
    "version_major": 2,
    "version_minor": 0
   }
  }
 },
 "nbformat": 4,
 "nbformat_minor": 5
}
