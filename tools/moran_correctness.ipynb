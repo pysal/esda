{
 "cells": [
  {
   "cell_type": "markdown",
   "metadata": {},
   "source": [
    "# Comparison of `Moran_Local` results with `pygeoda`"
   ]
  },
  {
   "cell_type": "code",
   "execution_count": 5,
   "metadata": {},
   "outputs": [],
   "source": [
    "from importlib import reload\n",
    "import esda\n",
    "import libpysal as ps\n",
    "import geopandas\n",
    "import pandas\n",
    "import numpy as np\n",
    "import os\n",
    "\n",
    "PERMS = 9999\n",
    "\n",
    "from libpysal.examples import get_path, load_example"
   ]
  },
  {
   "cell_type": "code",
   "execution_count": 4,
   "metadata": {},
   "outputs": [
    {
     "name": "stdout",
     "output_type": "stream",
     "text": [
      "Downloading NCOVR to /home/jovyan/pysal_data/NCOVR\n"
     ]
    }
   ],
   "source": [
    "_ = load_example(\"NCOVR\")\n",
    "\n",
    "nat = geopandas.read_file(get_path(\"NAT.shp\"))"
   ]
  },
  {
   "cell_type": "markdown",
   "metadata": {},
   "source": [
    "- Load up data"
   ]
  },
  {
   "cell_type": "code",
   "execution_count": 2,
   "metadata": {},
   "outputs": [],
   "source": [
    "y_name = \"HR70\"\n",
    "#y_name = \"HOVAL\"\n",
    "db = geopandas.read_file(get_path(\"NAT.shp\"))\n",
    "\n",
    "w = ps.weights.Queen.from_dataframe(db)\n",
    "cardinalities = pandas.Series(w.cardinalities).values"
   ]
  },
  {
   "cell_type": "markdown",
   "metadata": {},
   "source": [
    "## LISA conditional randomisation"
   ]
  },
  {
   "cell_type": "markdown",
   "metadata": {},
   "source": [
    "- `Moran_Local` in `esda`. Single thread."
   ]
  },
  {
   "cell_type": "code",
   "execution_count": 7,
   "metadata": {},
   "outputs": [
    {
     "name": "stdout",
     "output_type": "stream",
     "text": [
      "1.01 s ± 11.8 ms per loop (mean ± std. dev. of 7 runs, 1 loop each)\n"
     ]
    }
   ],
   "source": [
    "reload(esda.moran)\n",
    "lisa = esda.Moran_Local(db[y_name], w, permutations=PERMS)\n",
    "%timeit lisa = esda.Moran_Local(db[y_name], w, permutations=PERMS)"
   ]
  },
  {
   "cell_type": "markdown",
   "metadata": {},
   "source": [
    "- `Moran_Local` in `esda`. Parallel."
   ]
  },
  {
   "cell_type": "code",
   "execution_count": 6,
   "metadata": {},
   "outputs": [
    {
     "name": "stdout",
     "output_type": "stream",
     "text": [
      "Running parallel implementation on 8 cores\n",
      "249 ms ± 5.66 ms per loop (mean ± std. dev. of 7 runs, 1 loop each)\n"
     ]
    }
   ],
   "source": [
    "print(f\"Running parallel implementation on {os.cpu_count()} cores\")\n",
    "lisa = esda.Moran_Local(db[y_name], w, permutations=PERMS, \n",
    "                        numba=True, n_jobs=-1)\n",
    "%timeit lisa = esda.Moran_Local(db[y_name], w, permutations=PERMS, \\\n",
    "                                numba=True, n_jobs=-1)"
   ]
  },
  {
   "cell_type": "markdown",
   "metadata": {},
   "source": [
    "---"
   ]
  },
  {
   "cell_type": "code",
   "execution_count": 7,
   "metadata": {},
   "outputs": [],
   "source": [
    "import pygeoda\n",
    "\n",
    "db_geoda = pygeoda.open(get_path(\"NAT.shp\"))\n",
    "y = db_geoda.GetIntegerCol(y_name)\n",
    "w_geoda = pygeoda.weights.queen(db_geoda)"
   ]
  },
  {
   "cell_type": "code",
   "execution_count": 8,
   "metadata": {},
   "outputs": [
    {
     "name": "stdout",
     "output_type": "stream",
     "text": [
      "115 ms ± 925 µs per loop (mean ± std. dev. of 7 runs, 10 loops each)\n",
      "1.1 s ± 3.25 ms per loop (mean ± std. dev. of 7 runs, 1 loop each)\n"
     ]
    }
   ],
   "source": [
    "%timeit lisa_geoda = pygeoda.local_moran(w_geoda, y)\n",
    "lisa_geoda = pygeoda.local_moran(w_geoda, y)\n",
    "lisa_geoda.SetPermutations(PERMS)\n",
    "%timeit lisa_geoda.Run()"
   ]
  },
  {
   "cell_type": "markdown",
   "metadata": {},
   "source": [
    "- Comparison of P-values"
   ]
  },
  {
   "cell_type": "code",
   "execution_count": 9,
   "metadata": {},
   "outputs": [
    {
     "data": {
      "text/plain": [
       "<matplotlib.axes._subplots.AxesSubplot at 0x7f07b9a5c490>"
      ]
     },
     "execution_count": 9,
     "metadata": {},
     "output_type": "execute_result"
    },
    {
     "data": {
      "image/png": "[encoded data removed]",
      "text/plain": [
       "<Figure size 432x288 with 1 Axes>"
      ]
     },
     "metadata": {
      "needs_background": "light"
     },
     "output_type": "display_data"
    }
   ],
   "source": [
    "pandas.DataFrame({\"Old\": lisa_old.p_sim,\n",
    "                  \"Numba\": lisa.p_sim\n",
    "                 }).plot.scatter(\"Old\", \"Numba\")"
   ]
  }
 ],
 "metadata": {
  "kernelspec": {
   "display_name": "Python 3",
   "language": "python",
   "name": "python3"
  },
  "language_info": {
   "codemirror_mode": {
    "name": "ipython",
    "version": 3
   },
   "file_extension": ".py",
   "mimetype": "text/x-python",
   "name": "python",
   "nbconvert_exporter": "python",
   "pygments_lexer": "ipython3",
   "version": "3.7.6"
  }
 },
 "nbformat": 4,
 "nbformat_minor": 4
}
